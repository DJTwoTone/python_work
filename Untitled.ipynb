{
 "cells": [
  {
   "cell_type": "code",
   "execution_count": null,
   "metadata": {},
   "outputs": [],
   "source": [
    "from survey import AnonymousSurvey\n",
    "\n",
    "#Define a question, and make a survey\n",
    "question = \"What langauge did you first learn to speak? \"\n",
    "my_survey = AnonymousSurvey(question)\n",
    "\n",
    "# Show the question, and store responces to the survey\n",
    "my_survey.show_question()\n",
    "print(\"Enter 'q' at any time to exit.\\n\")\n",
    "while True:\n",
    "\tresponse = input(\"Language:  \")\n",
    "\tif response == 'q':\n",
    "\t\tbreak\n",
    "\tmy_survey.store_response(response)\n",
    "\t\n",
    "# Show the survey results.\n",
    "print(\"\\nThank you to everyone wh participated in the survey!\")\n",
    "my_survey.show_results()"
   ]
  },
  {
   "cell_type": "code",
   "execution_count": null,
   "metadata": {},
   "outputs": [],
   "source": []
  },
  {
   "cell_type": "code",
   "execution_count": null,
   "metadata": {},
   "outputs": [],
   "source": []
  }
 ],
 "metadata": {
  "kernelspec": {
   "display_name": "Python 3",
   "language": "python",
   "name": "python3"
  }
 },
 "nbformat": 4,
 "nbformat_minor": 2
}
